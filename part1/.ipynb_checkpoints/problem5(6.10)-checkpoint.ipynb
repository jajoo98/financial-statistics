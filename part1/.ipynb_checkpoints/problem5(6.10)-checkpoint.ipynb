{
 "cells": [
  {
   "cell_type": "code",
   "execution_count": 12,
   "id": "b686a536",
   "metadata": {},
   "outputs": [],
   "source": [
    "import warnings\n",
    "warnings.simplefilter(action='ignore', category=FutureWarning)\n",
    "from arch import arch_model\n",
    "import pandas as pd\n",
    "import numpy as np"
   ]
  },
  {
   "cell_type": "code",
   "execution_count": 13,
   "id": "7e2bdc32",
   "metadata": {},
   "outputs": [],
   "source": [
    "data = pd.read_table(\"nasdaq_w_logret.txt\")"
   ]
  },
  {
   "cell_type": "code",
   "execution_count": 14,
   "id": "30b1c33e",
   "metadata": {},
   "outputs": [],
   "source": [
    "data['Date'] = pd.to_datetime(data['Date'])\n",
    "data = data.set_index('Date', drop=True)\n",
    "alpha, beta, omega = [], [], []\n",
    "data = data"
   ]
  },
  {
   "cell_type": "code",
   "execution_count": 15,
   "id": "4316a59d",
   "metadata": {
    "scrolled": true
   },
   "outputs": [
    {
     "name": "stdout",
     "output_type": "stream",
     "text": [
      "                       Zero Mean - GARCH Model Results                        \n",
      "==============================================================================\n",
      "Dep. Variable:              logreturn   R-squared:                       0.000\n",
      "Mean Model:                 Zero Mean   Adj. R-squared:                  0.001\n",
      "Vol Model:                      GARCH   Log-Likelihood:               -2322.59\n",
      "Distribution:                  Normal   AIC:                           4651.18\n",
      "Method:            Maximum Likelihood   BIC:                           4665.85\n",
      "                                        No. Observations:                  982\n",
      "Date:                Sun, Oct 24 2021   Df Residuals:                      979\n",
      "Time:                        17:19:37   Df Model:                            3\n",
      "                              Volatility Model                             \n",
      "===========================================================================\n",
      "                 coef    std err          t      P>|t|     95.0% Conf. Int.\n",
      "---------------------------------------------------------------------------\n",
      "omega          0.2659      0.159      1.676  9.377e-02 [-4.509e-02,  0.577]\n",
      "alpha[1]       0.2103  8.942e-02      2.352  1.868e-02  [3.505e-02,  0.386]\n",
      "beta[1]        0.7793  8.296e-02      9.394  5.791e-21    [  0.617,  0.942]\n",
      "===========================================================================\n",
      "\n",
      "Covariance estimator: robust\n"
     ]
    }
   ],
   "source": [
    "model = arch_model(data, mean='Zero', vol='GARCH', p=1, q=1)\n",
    "model_fit = model.fit(disp='off')\n",
    "print(model_fit.summary())\n",
    "omega.append(model_fit.params[0])\n",
    "alpha.append(model_fit.params[1])\n",
    "beta.append(model_fit.params[2])"
   ]
  },
  {
   "cell_type": "code",
   "execution_count": 16,
   "id": "78c7b475",
   "metadata": {},
   "outputs": [],
   "source": [
    "divider = data.index.get_loc('1987-06-15')\n",
    "data1 = data.iloc[:divider+1,:]\n",
    "divider2 = data.index.get_loc('1990-08-13')\n",
    "data2 = data.iloc[divider-1:divider2+1,:]\n",
    "divider3 = data.index.get_loc('1998-03-16')\n",
    "data3 = data.iloc[divider2-1:divider3,:]\n",
    "data4 = data.iloc[divider3-2:,:]"
   ]
  },
  {
   "cell_type": "code",
   "execution_count": 17,
   "id": "3ae0266b",
   "metadata": {},
   "outputs": [
    {
     "name": "stdout",
     "output_type": "stream",
     "text": [
      "                       Zero Mean - GARCH Model Results                        \n",
      "==============================================================================\n",
      "Dep. Variable:              logreturn   R-squared:                       0.000\n",
      "Mean Model:                 Zero Mean   Adj. R-squared:                  0.007\n",
      "Vol Model:                      GARCH   Log-Likelihood:               -275.864\n",
      "Distribution:                  Normal   AIC:                           557.728\n",
      "Method:            Maximum Likelihood   BIC:                           566.444\n",
      "                                        No. Observations:                  135\n",
      "Date:                Sun, Oct 24 2021   Df Residuals:                      132\n",
      "Time:                        17:19:38   Df Model:                            3\n",
      "                               Volatility Model                              \n",
      "=============================================================================\n",
      "                 coef    std err          t      P>|t|       95.0% Conf. Int.\n",
      "-----------------------------------------------------------------------------\n",
      "omega          0.9423      2.068      0.456      0.649      [ -3.111,  4.996]\n",
      "alpha[1]   7.0487e-16  3.648e-02  1.932e-14      1.000 [-7.149e-02,7.149e-02]\n",
      "beta[1]        0.7328      0.614      1.194      0.232      [ -0.470,  1.936]\n",
      "=============================================================================\n",
      "\n",
      "Covariance estimator: robust\n"
     ]
    }
   ],
   "source": [
    "model1 = arch_model(data1, mean='Zero', vol='GARCH', p=1, q=1)\n",
    "model1_fit = model1.fit(disp='off')\n",
    "print(model1_fit.summary())\n",
    "omega.append(model1_fit.params[0])\n",
    "alpha.append(model1_fit.params[1])\n",
    "beta.append(model1_fit.params[2])"
   ]
  },
  {
   "cell_type": "code",
   "execution_count": 18,
   "id": "607c0e53",
   "metadata": {},
   "outputs": [
    {
     "name": "stdout",
     "output_type": "stream",
     "text": [
      "                       Zero Mean - GARCH Model Results                        \n",
      "==============================================================================\n",
      "Dep. Variable:              logreturn   R-squared:                       0.000\n",
      "Mean Model:                 Zero Mean   Adj. R-squared:                  0.006\n",
      "Vol Model:                      GARCH   Log-Likelihood:               -340.466\n",
      "Distribution:                  Normal   AIC:                           686.932\n",
      "Method:            Maximum Likelihood   BIC:                           696.286\n",
      "                                        No. Observations:                  167\n",
      "Date:                Sun, Oct 24 2021   Df Residuals:                      164\n",
      "Time:                        17:19:38   Df Model:                            3\n",
      "                             Volatility Model                             \n",
      "==========================================================================\n",
      "                 coef    std err          t      P>|t|    95.0% Conf. Int.\n",
      "--------------------------------------------------------------------------\n",
      "omega          0.6395      0.323      1.978  4.795e-02 [5.767e-03,  1.273]\n",
      "alpha[1]       0.5407      0.214      2.523  1.163e-02   [  0.121,  0.961]\n",
      "beta[1]        0.4158      0.160      2.607  9.145e-03   [  0.103,  0.728]\n",
      "==========================================================================\n",
      "\n",
      "Covariance estimator: robust\n"
     ]
    }
   ],
   "source": [
    "model2 = arch_model(data2, mean='Zero', vol='GARCH', p=1, q=1)\n",
    "model2_fit = model2.fit(disp='off')\n",
    "print(model2_fit.summary())\n",
    "omega.append(model2_fit.params[0])\n",
    "alpha.append(model2_fit.params[1])\n",
    "beta.append(model2_fit.params[2])"
   ]
  },
  {
   "cell_type": "code",
   "execution_count": 19,
   "id": "4d4bb4e4",
   "metadata": {},
   "outputs": [
    {
     "name": "stdout",
     "output_type": "stream",
     "text": [
      "                       Zero Mean - GARCH Model Results                        \n",
      "==============================================================================\n",
      "Dep. Variable:              logreturn   R-squared:                       0.000\n",
      "Mean Model:                 Zero Mean   Adj. R-squared:                  0.003\n",
      "Vol Model:                      GARCH   Log-Likelihood:               -846.832\n",
      "Distribution:                  Normal   AIC:                           1699.66\n",
      "Method:            Maximum Likelihood   BIC:                           1711.62\n",
      "                                        No. Observations:                  397\n",
      "Date:                Sun, Oct 24 2021   Df Residuals:                      394\n",
      "Time:                        17:19:38   Df Model:                            3\n",
      "                               Volatility Model                              \n",
      "=============================================================================\n",
      "                 coef    std err          t      P>|t|       95.0% Conf. Int.\n",
      "-----------------------------------------------------------------------------\n",
      "omega          0.1586      0.122      1.298      0.194   [-8.093e-02,  0.398]\n",
      "alpha[1]       0.0244  2.844e-02      0.858      0.391 [-3.135e-02,8.014e-02]\n",
      "beta[1]        0.9349  5.109e-02     18.299  8.498e-75      [  0.835,  1.035]\n",
      "=============================================================================\n",
      "\n",
      "Covariance estimator: robust\n"
     ]
    }
   ],
   "source": [
    "model3 = arch_model(data3, mean='Zero', vol='GARCH', p=1, q=1)\n",
    "model3_fit = model3.fit(disp='off')\n",
    "print(model3_fit.summary())\n",
    "omega.append(model3_fit.params[0])\n",
    "alpha.append(model3_fit.params[1])\n",
    "beta.append(model3_fit.params[2])"
   ]
  },
  {
   "cell_type": "code",
   "execution_count": 20,
   "id": "01917821",
   "metadata": {},
   "outputs": [
    {
     "name": "stdout",
     "output_type": "stream",
     "text": [
      "                       Zero Mean - GARCH Model Results                        \n",
      "==============================================================================\n",
      "Dep. Variable:              logreturn   R-squared:                       0.000\n",
      "Mean Model:                 Zero Mean   Adj. R-squared:                  0.003\n",
      "Vol Model:                      GARCH   Log-Likelihood:               -843.311\n",
      "Distribution:                  Normal   AIC:                           1692.62\n",
      "Method:            Maximum Likelihood   BIC:                           1703.62\n",
      "                                        No. Observations:                  289\n",
      "Date:                Sun, Oct 24 2021   Df Residuals:                      286\n",
      "Time:                        17:19:39   Df Model:                            3\n",
      "                              Volatility Model                             \n",
      "===========================================================================\n",
      "                 coef    std err          t      P>|t|     95.0% Conf. Int.\n",
      "---------------------------------------------------------------------------\n",
      "omega          0.5319      0.411      1.295      0.195    [ -0.273,  1.337]\n",
      "alpha[1]       0.1472  8.980e-02      1.639      0.101 [-2.881e-02,  0.323]\n",
      "beta[1]        0.8451  6.139e-02     13.765  4.115e-43    [  0.725,  0.965]\n",
      "===========================================================================\n",
      "\n",
      "Covariance estimator: robust\n"
     ]
    }
   ],
   "source": [
    "model4 = arch_model(data4, mean='Zero', vol='GARCH', p=1, q=1)\n",
    "model4_fit = model4.fit(disp='off')\n",
    "print(model4_fit.summary())\n",
    "omega.append(model4_fit.params[0])\n",
    "alpha.append(model4_fit.params[1])\n",
    "beta.append(model4_fit.params[2])"
   ]
  },
  {
   "cell_type": "code",
   "execution_count": 21,
   "id": "8f49673f",
   "metadata": {},
   "outputs": [
    {
     "data": {
      "text/html": [
       "<div>\n",
       "<style scoped>\n",
       "    .dataframe tbody tr th:only-of-type {\n",
       "        vertical-align: middle;\n",
       "    }\n",
       "\n",
       "    .dataframe tbody tr th {\n",
       "        vertical-align: top;\n",
       "    }\n",
       "\n",
       "    .dataframe thead th {\n",
       "        text-align: right;\n",
       "    }\n",
       "</style>\n",
       "<table border=\"1\" class=\"dataframe\">\n",
       "  <thead>\n",
       "    <tr style=\"text-align: right;\">\n",
       "      <th></th>\n",
       "      <th>omega</th>\n",
       "      <th>alpha</th>\n",
       "      <th>beta</th>\n",
       "      <th>alpha+beta</th>\n",
       "      <th>half-life</th>\n",
       "    </tr>\n",
       "  </thead>\n",
       "  <tbody>\n",
       "    <tr>\n",
       "      <th>Full model</th>\n",
       "      <td>0.265938</td>\n",
       "      <td>2.103023e-01</td>\n",
       "      <td>0.779292</td>\n",
       "      <td>0.989594</td>\n",
       "      <td>66.264188</td>\n",
       "    </tr>\n",
       "    <tr>\n",
       "      <th>Period 1</th>\n",
       "      <td>0.942328</td>\n",
       "      <td>7.048698e-16</td>\n",
       "      <td>0.732754</td>\n",
       "      <td>0.732754</td>\n",
       "      <td>2.229158</td>\n",
       "    </tr>\n",
       "    <tr>\n",
       "      <th>Period 2</th>\n",
       "      <td>0.639531</td>\n",
       "      <td>5.407369e-01</td>\n",
       "      <td>0.415801</td>\n",
       "      <td>0.956538</td>\n",
       "      <td>15.599076</td>\n",
       "    </tr>\n",
       "    <tr>\n",
       "      <th>Period 3</th>\n",
       "      <td>0.158608</td>\n",
       "      <td>2.439527e-02</td>\n",
       "      <td>0.934929</td>\n",
       "      <td>0.959324</td>\n",
       "      <td>16.691717</td>\n",
       "    </tr>\n",
       "    <tr>\n",
       "      <th>Period 4</th>\n",
       "      <td>0.531864</td>\n",
       "      <td>1.472041e-01</td>\n",
       "      <td>0.845084</td>\n",
       "      <td>0.992288</td>\n",
       "      <td>89.530264</td>\n",
       "    </tr>\n",
       "  </tbody>\n",
       "</table>\n",
       "</div>"
      ],
      "text/plain": [
       "               omega         alpha      beta  alpha+beta  half-life\n",
       "Full model  0.265938  2.103023e-01  0.779292    0.989594  66.264188\n",
       "Period 1    0.942328  7.048698e-16  0.732754    0.732754   2.229158\n",
       "Period 2    0.639531  5.407369e-01  0.415801    0.956538  15.599076\n",
       "Period 3    0.158608  2.439527e-02  0.934929    0.959324  16.691717\n",
       "Period 4    0.531864  1.472041e-01  0.845084    0.992288  89.530264"
      ]
     },
     "execution_count": 21,
     "metadata": {},
     "output_type": "execute_result"
    }
   ],
   "source": [
    "ab = [alpha[i]+beta[i] for i in range(5)]\n",
    "halflife = [-np.log(2)/np.log(i) for i in ab]\n",
    "table = pd.DataFrame({'omega':omega, 'alpha':alpha, 'beta':beta, 'alpha+beta':ab, 'half-life':halflife})\n",
    "table = table.set_index(pd.Index(['Full model','Period 1','Period 2','Period 3','Period 4']))\n",
    "table"
   ]
  },
  {
   "cell_type": "markdown",
   "id": "6a0acb3d",
   "metadata": {},
   "source": [
    "alpha + beta is volatility persistence. It is almost equal to 1 in every case. Half life is high so volatility persistence is high - decay is slower, shock in volatility stays for long.\n",
    "alpha measures impact of innovations on volatility. Not significant in these models.\n",
    "\n",
    "Most of the coefficients are not significant - might need to change model.\n",
    "\n",
    "(a) and (b) vary a lot - suggests that it is better to divide the model into smaller parts - more reliable. But paramaters are significant only in main model - might not want to split."
   ]
  },
  {
   "cell_type": "code",
   "execution_count": null,
   "id": "1cd14ec1",
   "metadata": {},
   "outputs": [],
   "source": []
  }
 ],
 "metadata": {
  "kernelspec": {
   "display_name": "Python 3 (ipykernel)",
   "language": "python",
   "name": "python3"
  },
  "language_info": {
   "codemirror_mode": {
    "name": "ipython",
    "version": 3
   },
   "file_extension": ".py",
   "mimetype": "text/x-python",
   "name": "python",
   "nbconvert_exporter": "python",
   "pygments_lexer": "ipython3",
   "version": "3.8.9"
  }
 },
 "nbformat": 4,
 "nbformat_minor": 5
}
