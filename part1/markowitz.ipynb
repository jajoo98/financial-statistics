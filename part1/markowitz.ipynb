{
 "cells": [
  {
   "cell_type": "code",
   "execution_count": 1,
   "id": "ab3c8ffb",
   "metadata": {},
   "outputs": [],
   "source": [
    "import pandas as pd\n",
    "import numpy as np\n",
    "import math\n",
    "import random\n",
    "import matplotlib.pyplot as plt\n",
    "from numpy.linalg import inv"
   ]
  },
  {
   "cell_type": "code",
   "execution_count": 2,
   "id": "7ff93da8",
   "metadata": {},
   "outputs": [],
   "source": [
    "data = pd.read_table(\"m_logret_10stocks.txt\")"
   ]
  },
  {
   "cell_type": "code",
   "execution_count": 3,
   "id": "49c5f907",
   "metadata": {},
   "outputs": [],
   "source": [
    "data['Date'] = pd.to_datetime(data['Date'])\n",
    "data = data.set_index('Date')\n",
    "data = data.dropna()"
   ]
  },
  {
   "cell_type": "markdown",
   "id": "6178c850",
   "metadata": {},
   "source": [
    "### Part (a) "
   ]
  },
  {
   "cell_type": "code",
   "execution_count": 4,
   "id": "3c2ced1f",
   "metadata": {},
   "outputs": [
    {
     "data": {
      "text/plain": [
       "AAPL    0.006894\n",
       "ADBE    0.007686\n",
       "ADP     0.003922\n",
       "AMD     0.002309\n",
       "DELL    0.011894\n",
       "GTW    -0.002486\n",
       "HP      0.005012\n",
       "IBM     0.005677\n",
       "MSFT    0.007293\n",
       "ORCL    0.006934\n",
       "dtype: float64"
      ]
     },
     "execution_count": 4,
     "metadata": {},
     "output_type": "execute_result"
    }
   ],
   "source": [
    "mean = data.mean()\n",
    "mean"
   ]
  },
  {
   "cell_type": "code",
   "execution_count": 5,
   "id": "3df6e99b",
   "metadata": {},
   "outputs": [
    {
     "data": {
      "text/html": [
       "<div>\n",
       "<style scoped>\n",
       "    .dataframe tbody tr th:only-of-type {\n",
       "        vertical-align: middle;\n",
       "    }\n",
       "\n",
       "    .dataframe tbody tr th {\n",
       "        vertical-align: top;\n",
       "    }\n",
       "\n",
       "    .dataframe thead th {\n",
       "        text-align: right;\n",
       "    }\n",
       "</style>\n",
       "<table border=\"1\" class=\"dataframe\">\n",
       "  <thead>\n",
       "    <tr style=\"text-align: right;\">\n",
       "      <th></th>\n",
       "      <th>AAPL</th>\n",
       "      <th>ADBE</th>\n",
       "      <th>ADP</th>\n",
       "      <th>AMD</th>\n",
       "      <th>DELL</th>\n",
       "      <th>GTW</th>\n",
       "      <th>HP</th>\n",
       "      <th>IBM</th>\n",
       "      <th>MSFT</th>\n",
       "      <th>ORCL</th>\n",
       "    </tr>\n",
       "  </thead>\n",
       "  <tbody>\n",
       "    <tr>\n",
       "      <th>AAPL</th>\n",
       "      <td>0.004549</td>\n",
       "      <td>0.001328</td>\n",
       "      <td>0.000129</td>\n",
       "      <td>0.002612</td>\n",
       "      <td>0.001928</td>\n",
       "      <td>0.002242</td>\n",
       "      <td>0.000730</td>\n",
       "      <td>0.000950</td>\n",
       "      <td>0.000899</td>\n",
       "      <td>0.001341</td>\n",
       "    </tr>\n",
       "    <tr>\n",
       "      <th>ADBE</th>\n",
       "      <td>0.001328</td>\n",
       "      <td>0.004454</td>\n",
       "      <td>0.000516</td>\n",
       "      <td>0.001755</td>\n",
       "      <td>0.001145</td>\n",
       "      <td>0.001939</td>\n",
       "      <td>0.000694</td>\n",
       "      <td>0.000447</td>\n",
       "      <td>0.000610</td>\n",
       "      <td>0.001176</td>\n",
       "    </tr>\n",
       "    <tr>\n",
       "      <th>ADP</th>\n",
       "      <td>0.000129</td>\n",
       "      <td>0.000516</td>\n",
       "      <td>0.000788</td>\n",
       "      <td>0.000501</td>\n",
       "      <td>0.000377</td>\n",
       "      <td>0.000577</td>\n",
       "      <td>0.000295</td>\n",
       "      <td>0.000415</td>\n",
       "      <td>0.000324</td>\n",
       "      <td>0.000381</td>\n",
       "    </tr>\n",
       "    <tr>\n",
       "      <th>AMD</th>\n",
       "      <td>0.002612</td>\n",
       "      <td>0.001755</td>\n",
       "      <td>0.000501</td>\n",
       "      <td>0.007144</td>\n",
       "      <td>0.001996</td>\n",
       "      <td>0.003081</td>\n",
       "      <td>0.000902</td>\n",
       "      <td>0.001580</td>\n",
       "      <td>0.001186</td>\n",
       "      <td>0.001540</td>\n",
       "    </tr>\n",
       "    <tr>\n",
       "      <th>DELL</th>\n",
       "      <td>0.001928</td>\n",
       "      <td>0.001145</td>\n",
       "      <td>0.000377</td>\n",
       "      <td>0.001996</td>\n",
       "      <td>0.003522</td>\n",
       "      <td>0.002546</td>\n",
       "      <td>0.000546</td>\n",
       "      <td>0.001075</td>\n",
       "      <td>0.001605</td>\n",
       "      <td>0.001194</td>\n",
       "    </tr>\n",
       "    <tr>\n",
       "      <th>GTW</th>\n",
       "      <td>0.002242</td>\n",
       "      <td>0.001939</td>\n",
       "      <td>0.000577</td>\n",
       "      <td>0.003081</td>\n",
       "      <td>0.002546</td>\n",
       "      <td>0.006506</td>\n",
       "      <td>0.000467</td>\n",
       "      <td>0.001024</td>\n",
       "      <td>0.001441</td>\n",
       "      <td>0.001110</td>\n",
       "    </tr>\n",
       "    <tr>\n",
       "      <th>HP</th>\n",
       "      <td>0.000730</td>\n",
       "      <td>0.000694</td>\n",
       "      <td>0.000295</td>\n",
       "      <td>0.000902</td>\n",
       "      <td>0.000546</td>\n",
       "      <td>0.000467</td>\n",
       "      <td>0.002305</td>\n",
       "      <td>0.000483</td>\n",
       "      <td>0.000089</td>\n",
       "      <td>0.000308</td>\n",
       "    </tr>\n",
       "    <tr>\n",
       "      <th>IBM</th>\n",
       "      <td>0.000950</td>\n",
       "      <td>0.000447</td>\n",
       "      <td>0.000415</td>\n",
       "      <td>0.001580</td>\n",
       "      <td>0.001075</td>\n",
       "      <td>0.001024</td>\n",
       "      <td>0.000483</td>\n",
       "      <td>0.001483</td>\n",
       "      <td>0.000901</td>\n",
       "      <td>0.000835</td>\n",
       "    </tr>\n",
       "    <tr>\n",
       "      <th>MSFT</th>\n",
       "      <td>0.000899</td>\n",
       "      <td>0.000610</td>\n",
       "      <td>0.000324</td>\n",
       "      <td>0.001186</td>\n",
       "      <td>0.001605</td>\n",
       "      <td>0.001441</td>\n",
       "      <td>0.000089</td>\n",
       "      <td>0.000901</td>\n",
       "      <td>0.002019</td>\n",
       "      <td>0.000918</td>\n",
       "    </tr>\n",
       "    <tr>\n",
       "      <th>ORCL</th>\n",
       "      <td>0.001341</td>\n",
       "      <td>0.001176</td>\n",
       "      <td>0.000381</td>\n",
       "      <td>0.001540</td>\n",
       "      <td>0.001194</td>\n",
       "      <td>0.001110</td>\n",
       "      <td>0.000308</td>\n",
       "      <td>0.000835</td>\n",
       "      <td>0.000918</td>\n",
       "      <td>0.003853</td>\n",
       "    </tr>\n",
       "  </tbody>\n",
       "</table>\n",
       "</div>"
      ],
      "text/plain": [
       "          AAPL      ADBE       ADP       AMD      DELL       GTW        HP  \\\n",
       "AAPL  0.004549  0.001328  0.000129  0.002612  0.001928  0.002242  0.000730   \n",
       "ADBE  0.001328  0.004454  0.000516  0.001755  0.001145  0.001939  0.000694   \n",
       "ADP   0.000129  0.000516  0.000788  0.000501  0.000377  0.000577  0.000295   \n",
       "AMD   0.002612  0.001755  0.000501  0.007144  0.001996  0.003081  0.000902   \n",
       "DELL  0.001928  0.001145  0.000377  0.001996  0.003522  0.002546  0.000546   \n",
       "GTW   0.002242  0.001939  0.000577  0.003081  0.002546  0.006506  0.000467   \n",
       "HP    0.000730  0.000694  0.000295  0.000902  0.000546  0.000467  0.002305   \n",
       "IBM   0.000950  0.000447  0.000415  0.001580  0.001075  0.001024  0.000483   \n",
       "MSFT  0.000899  0.000610  0.000324  0.001186  0.001605  0.001441  0.000089   \n",
       "ORCL  0.001341  0.001176  0.000381  0.001540  0.001194  0.001110  0.000308   \n",
       "\n",
       "           IBM      MSFT      ORCL  \n",
       "AAPL  0.000950  0.000899  0.001341  \n",
       "ADBE  0.000447  0.000610  0.001176  \n",
       "ADP   0.000415  0.000324  0.000381  \n",
       "AMD   0.001580  0.001186  0.001540  \n",
       "DELL  0.001075  0.001605  0.001194  \n",
       "GTW   0.001024  0.001441  0.001110  \n",
       "HP    0.000483  0.000089  0.000308  \n",
       "IBM   0.001483  0.000901  0.000835  \n",
       "MSFT  0.000901  0.002019  0.000918  \n",
       "ORCL  0.000835  0.000918  0.003853  "
      ]
     },
     "execution_count": 5,
     "metadata": {},
     "output_type": "execute_result"
    }
   ],
   "source": [
    "covariance = data.cov()\n",
    "covariance"
   ]
  },
  {
   "cell_type": "markdown",
   "id": "6c89d3d6",
   "metadata": {},
   "source": [
    "### Part (b)"
   ]
  },
  {
   "cell_type": "code",
   "execution_count": 6,
   "id": "a3c3b601",
   "metadata": {},
   "outputs": [],
   "source": [
    "def calc_w_eff(mu, sigma, mustar):\n",
    "    \"\"\"\n",
    "    calculates the effecient weights for any given mean, covariance\n",
    "    matrix and required return mustar\n",
    "    \"\"\"\n",
    "    ones = np.ones((mu.shape[0],))\n",
    "    ones_t = ones.T\n",
    "    sigmainv = inv(sigma)\n",
    "    sigmainv_ones = sigmainv.dot(ones)\n",
    "    sigmainv_mu = sigmainv.dot(mu)\n",
    "    \n",
    "    A = ones_t.dot(sigmainv_mu)\n",
    "    B = (mu.T).dot(sigmainv_mu)\n",
    "    C = ones_t.dot(sigmainv_ones)\n",
    "    D = B*C - A*A\n",
    "    \n",
    "    middle_term = np.multiply(sigmainv_mu, C) - np.multiply(sigmainv_ones, A)\n",
    "    wd = np.multiply(sigmainv_ones, B) - np.multiply(sigmainv_mu, A) + np.multiply(middle_term, mustar)\n",
    "    w_eff = np.multiply(wd, 1/D)\n",
    "    var_eff = (B - 2*mustar*A + mustar*mustar*C)/D\n",
    "    \n",
    "    return w_eff, math.sqrt(var_eff)"
   ]
  },
  {
   "cell_type": "code",
   "execution_count": 7,
   "id": "94ba815b",
   "metadata": {},
   "outputs": [
    {
     "data": {
      "text/plain": [
       "array([ 0.07136165, -0.02964316,  0.64982619, -0.023669  , -0.19107218,\n",
       "        0.07856725,  0.16168683,  0.09650606,  0.16306989,  0.02336648])"
      ]
     },
     "execution_count": 7,
     "metadata": {},
     "output_type": "execute_result"
    }
   ],
   "source": [
    "# calculating efficient portfolio weights\n",
    "\n",
    "mu = mean.to_numpy()\n",
    "sigma = covariance.to_numpy()\n",
    "w_eff, stddev_eff = calc_w_eff(mu,sigma,0.003)\n",
    "w_eff"
   ]
  },
  {
   "cell_type": "markdown",
   "id": "c3421e48",
   "metadata": {},
   "source": [
    "### Part (d)\n",
    "Part (c) is done after this"
   ]
  },
  {
   "cell_type": "code",
   "execution_count": 8,
   "id": "7251d46d",
   "metadata": {},
   "outputs": [
    {
     "data": {
      "image/png": "[encoded data removed]",
      "text/plain": [
       "<Figure size 576x360 with 1 Axes>"
      ]
     },
     "metadata": {
      "needs_background": "light"
     },
     "output_type": "display_data"
    }
   ],
   "source": [
    "# plotting the Markowitz frontier\n",
    "\n",
    "mu_list = [-0.002+0.00022*i for i in range(100)]\n",
    "stddev_list = []\n",
    "for item in mu_list:\n",
    "    stddev_list.append(calc_w_eff(mu,sigma,item)[1])\n",
    "plt.plot(stddev_list, mu_list);\n",
    "plt.ylabel(\"Monthly log return\");\n",
    "plt.xlabel(\"Monthly standard deviation\");\n",
    "fig = plt.gcf()\n",
    "fig.set_size_inches(8, 5)"
   ]
  },
  {
   "cell_type": "code",
   "execution_count": 9,
   "id": "881f9b94",
   "metadata": {},
   "outputs": [
    {
     "data": {
      "image/png": "[encoded data removed]",
      "text/plain": [
       "<Figure size 576x360 with 1 Axes>"
      ]
     },
     "metadata": {
      "needs_background": "light"
     },
     "output_type": "display_data"
    }
   ],
   "source": [
    "# plotting the efficient frontier\n",
    "\n",
    "mu_list_eff = [0.005+0.00010*i for i in range(100)]\n",
    "stddev_list_eff = []\n",
    "for item in mu_list_eff:\n",
    "    stddev_list_eff.append(calc_w_eff(mu,sigma,item)[1])\n",
    "plt.plot(stddev_list_eff, mu_list_eff);\n",
    "plt.ylabel(\"Monthly log return\");\n",
    "plt.xlabel(\"Monthly standard deviation\");\n",
    "fig = plt.gcf()\n",
    "fig.set_size_inches(8, 5)"
   ]
  },
  {
   "cell_type": "markdown",
   "id": "ea18f012",
   "metadata": {},
   "source": [
    "### Part (c)"
   ]
  },
  {
   "cell_type": "code",
   "execution_count": 10,
   "id": "ba29aadf",
   "metadata": {},
   "outputs": [],
   "source": [
    "# bootstrap resampling function\n",
    "\n",
    "def bootstrap(data, b_num, mustar_bs):\n",
    "    w_eff_bs = []\n",
    "    for i in range(b_num):\n",
    "        sample = data.sample(n=data.shape[0], replace=True)\n",
    "        mu_bs = sample.mean().to_numpy()\n",
    "        sigma_bs = sample.cov().to_numpy()\n",
    "        w_eff_bs.append(calc_w_eff(mu_bs, sigma_bs, mustar_bs)[0])\n",
    "        \n",
    "    w_eff_bs = sum(w_eff_bs)/b_num\n",
    "    return w_eff_bs    "
   ]
  },
  {
   "cell_type": "code",
   "execution_count": 11,
   "id": "d7a93b03",
   "metadata": {},
   "outputs": [
    {
     "data": {
      "text/plain": [
       "array([ 0.06488903, -0.01161693,  0.61000949, -0.03163861, -0.11657915,\n",
       "        0.02674644,  0.16066972,  0.10762548,  0.1709148 ,  0.01897972])"
      ]
     },
     "execution_count": 11,
     "metadata": {},
     "output_type": "execute_result"
    }
   ],
   "source": [
    "mu_list_bs = []\n",
    "stddev_list_bs = []\n",
    "w_bar = []\n",
    "for item in mu_list:\n",
    "    w_bar = bootstrap(data, 500, item)\n",
    "    mu_list_bs.append((w_bar.T).dot(mu))\n",
    "    stddev_list_bs.append(math.sqrt((w_bar.T).dot(sigma).dot(w_bar)))\n",
    "\n",
    "weights = bootstrap(data, 500, 0.003) # to print weights for mu*=0.003\n",
    "weights"
   ]
  },
  {
   "cell_type": "markdown",
   "id": "7d755da8",
   "metadata": {},
   "source": [
    "### Part (e)"
   ]
  },
  {
   "cell_type": "code",
   "execution_count": 12,
   "id": "8d9a2025",
   "metadata": {},
   "outputs": [
    {
     "data": {
      "image/png": "[encoded data removed]",
      "text/plain": [
       "<Figure size 576x360 with 1 Axes>"
      ]
     },
     "metadata": {
      "needs_background": "light"
     },
     "output_type": "display_data"
    }
   ],
   "source": [
    "plt.plot(stddev_list_bs, mu_list_bs, 'r');\n",
    "plt.ylabel(\"Monthly log return\");\n",
    "plt.xlabel(\"Monthly standard deviation\");\n",
    "fig = plt.gcf()\n",
    "fig.set_size_inches(8, 5)"
   ]
  },
  {
   "cell_type": "code",
   "execution_count": 13,
   "id": "0bb581e1",
   "metadata": {},
   "outputs": [
    {
     "data": {
      "image/png": "[encoded data removed]",
      "text/plain": [
       "<Figure size 576x360 with 1 Axes>"
      ]
     },
     "metadata": {
      "needs_background": "light"
     },
     "output_type": "display_data"
    }
   ],
   "source": [
    "plt.plot(stddev_list_bs, mu_list_bs, 'r', linewidth=5.0);\n",
    "plt.plot(stddev_list, mu_list);\n",
    "plt.ylabel(\"Monthly log return\");\n",
    "plt.xlabel(\"Monthly standard deviation\");\n",
    "fig = plt.gcf()\n",
    "fig.set_size_inches(8, 5)"
   ]
  },
  {
   "cell_type": "markdown",
   "id": "948bda3b",
   "metadata": {},
   "source": [
    "We can see that the bootstrapped plot (thickened for visualization) lies almost exactly on the Markowitz frontier, but it does not span the entire range of $\\mu$ values."
   ]
  }
 ],
 "metadata": {
  "kernelspec": {
   "display_name": "Python 3 (ipykernel)",
   "language": "python",
   "name": "python3"
  },
  "language_info": {
   "codemirror_mode": {
    "name": "ipython",
    "version": 3
   },
   "file_extension": ".py",
   "mimetype": "text/x-python",
   "name": "python",
   "nbconvert_exporter": "python",
   "pygments_lexer": "ipython3",
   "version": "3.8.9"
  }
 },
 "nbformat": 4,
 "nbformat_minor": 5
}
